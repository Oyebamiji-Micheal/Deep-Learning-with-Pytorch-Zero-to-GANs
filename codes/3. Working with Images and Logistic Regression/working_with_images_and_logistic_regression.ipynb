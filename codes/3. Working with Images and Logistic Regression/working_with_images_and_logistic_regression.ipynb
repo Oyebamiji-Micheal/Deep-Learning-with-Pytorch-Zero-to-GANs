{
 "cells": [
  {
   "cell_type": "markdown",
   "id": "324cf26c",
   "metadata": {},
   "source": [
    "# Deep Learning with Python: Zero to GANs"
   ]
  },
  {
   "cell_type": "markdown",
   "id": "d30bd64c",
   "metadata": {},
   "source": [
    "## Working with Images & Logistic Regression in PyTorch"
   ]
  },
  {
   "cell_type": "code",
   "execution_count": 1,
   "id": "f8724a29",
   "metadata": {},
   "outputs": [],
   "source": [
    "import torch\n",
    "import torchvision\n",
    "from torchvision.datasets import MNIST"
   ]
  },
  {
   "cell_type": "code",
   "execution_count": 2,
   "id": "1604fa3c",
   "metadata": {},
   "outputs": [],
   "source": [
    "# Download training dataset\n",
    "dataset = MNIST(root='data/', download=True)"
   ]
  },
  {
   "cell_type": "code",
   "execution_count": 3,
   "id": "c8c80ad8",
   "metadata": {},
   "outputs": [
    {
     "data": {
      "text/plain": [
       "60000"
      ]
     },
     "execution_count": 3,
     "metadata": {},
     "output_type": "execute_result"
    }
   ],
   "source": [
    "len(dataset)"
   ]
  },
  {
   "cell_type": "markdown",
   "id": "50dc9e0a",
   "metadata": {},
   "source": [
    "The dataset has 60,000 images that we'll use to train the model. There is also an additional test set of 10,000 images used for evaluating models and reporting metrics in papers and reports. "
   ]
  },
  {
   "cell_type": "code",
   "execution_count": 4,
   "id": "8c068787",
   "metadata": {},
   "outputs": [
    {
     "data": {
      "text/plain": [
       "10000"
      ]
     },
     "execution_count": 4,
     "metadata": {},
     "output_type": "execute_result"
    }
   ],
   "source": [
    "test_dataset = MNIST(root='data/', train=False)\n",
    "len(test_dataset)"
   ]
  },
  {
   "cell_type": "code",
   "execution_count": 5,
   "id": "14f86e24",
   "metadata": {},
   "outputs": [
    {
     "data": {
      "text/plain": [
       "(<PIL.Image.Image image mode=L size=28x28>, 5)"
      ]
     },
     "execution_count": 5,
     "metadata": {},
     "output_type": "execute_result"
    }
   ],
   "source": [
    "dataset[0]"
   ]
  },
  {
   "cell_type": "code",
   "execution_count": 6,
   "id": "cd6a44c9",
   "metadata": {},
   "outputs": [],
   "source": [
    "import matplotlib.pyplot as plt\n",
    "%matplotlib inline"
   ]
  },
  {
   "cell_type": "code",
   "execution_count": 7,
   "id": "6ba70988",
   "metadata": {},
   "outputs": [
    {
     "name": "stdout",
     "output_type": "stream",
     "text": [
      "Label: 5\n"
     ]
    },
    {
     "data": {
      "image/png": "[encoded data removed]",
      "text/plain": [
       "<Figure size 640x480 with 1 Axes>"
      ]
     },
     "metadata": {},
     "output_type": "display_data"
    }
   ],
   "source": [
    "image, label = dataset[0]\n",
    "plt.imshow(image, cmap='gray')\n",
    "print('Label:', label)"
   ]
  },
  {
   "cell_type": "code",
   "execution_count": 8,
   "id": "e5a64ea3",
   "metadata": {},
   "outputs": [
    {
     "name": "stdout",
     "output_type": "stream",
     "text": [
      "Label: 1\n"
     ]
    },
    {
     "data": {
      "image/png": "[encoded data removed]",
      "text/plain": [
       "<Figure size 640x480 with 1 Axes>"
      ]
     },
     "metadata": {},
     "output_type": "display_data"
    }
   ],
   "source": [
    "image, label = dataset[6]\n",
    "plt.imshow(image, cmap='gray')\n",
    "print('Label:', label)"
   ]
  },
  {
   "cell_type": "code",
   "execution_count": 9,
   "id": "a8fecf53",
   "metadata": {},
   "outputs": [],
   "source": [
    "import torchvision.transforms as transforms"
   ]
  },
  {
   "cell_type": "code",
   "execution_count": 10,
   "id": "7948638b",
   "metadata": {},
   "outputs": [],
   "source": [
    "dataset = MNIST(root='data/', \n",
    "                train=True, \n",
    "                transform=transforms.ToTensor())"
   ]
  },
  {
   "cell_type": "code",
   "execution_count": 11,
   "id": "2ff0b516",
   "metadata": {},
   "outputs": [
    {
     "name": "stdout",
     "output_type": "stream",
     "text": [
      "torch.Size([1, 28, 28]) 5\n"
     ]
    }
   ],
   "source": [
    "img_tensor, label = dataset[0]\n",
    "print(img_tensor.shape, label)"
   ]
  },
  {
   "cell_type": "code",
   "execution_count": 12,
   "id": "c2cabbee",
   "metadata": {},
   "outputs": [
    {
     "name": "stdout",
     "output_type": "stream",
     "text": [
      "tensor([[0.0039, 0.6039, 0.9922, 0.3529, 0.0000],\n",
      "        [0.0000, 0.5451, 0.9922, 0.7451, 0.0078],\n",
      "        [0.0000, 0.0431, 0.7451, 0.9922, 0.2745],\n",
      "        [0.0000, 0.0000, 0.1373, 0.9451, 0.8824],\n",
      "        [0.0000, 0.0000, 0.0000, 0.3176, 0.9412]])\n"
     ]
    }
   ],
   "source": [
    "print(img_tensor[0, 10:15, 10:15])"
   ]
  },
  {
   "cell_type": "code",
   "execution_count": 13,
   "id": "ab65e890",
   "metadata": {
    "scrolled": false
   },
   "outputs": [
    {
     "data": {
      "image/png": "[encoded data removed]",
      "text/plain": [
       "<Figure size 640x480 with 1 Axes>"
      ]
     },
     "metadata": {},
     "output_type": "display_data"
    }
   ],
   "source": [
    "# Plot the image by passing in the 28x28 matrix\n",
    "plt.imshow(img_tensor[0, 10:15, 10:15], cmap='gray');"
   ]
  },
  {
   "cell_type": "markdown",
   "id": "445c21d1",
   "metadata": {},
   "source": [
    "## Training and Validation Datasets"
   ]
  },
  {
   "cell_type": "code",
   "execution_count": 14,
   "id": "6042d1ef",
   "metadata": {},
   "outputs": [
    {
     "data": {
      "text/plain": [
       "(50000, 10000)"
      ]
     },
     "execution_count": 14,
     "metadata": {},
     "output_type": "execute_result"
    }
   ],
   "source": [
    "from torch.utils.data import random_split\n",
    "\n",
    "train_ds, val_ds = random_split(dataset, [50000, 10000])\n",
    "len(train_ds), len(val_ds)"
   ]
  },
  {
   "cell_type": "markdown",
   "id": "0bf3befd",
   "metadata": {},
   "source": [
    "We can now create data loaders to help us load the data in batches. We'll use a batch size of 128."
   ]
  },
  {
   "cell_type": "code",
   "execution_count": 15,
   "id": "30848a47",
   "metadata": {},
   "outputs": [],
   "source": [
    "from torch.utils.data import DataLoader\n",
    "\n",
    "batch_size = 128\n",
    "\n",
    "train_loader = DataLoader(train_ds, batch_size, shuffle=True)\n",
    "val_loader = DataLoader(val_ds, batch_size)"
   ]
  },
  {
   "cell_type": "markdown",
   "id": "bbc48542",
   "metadata": {},
   "source": [
    "## Model"
   ]
  },
  {
   "cell_type": "markdown",
   "id": "9fb22a2f",
   "metadata": {},
   "source": [
    "Since `nn.Linear` expects each training example to be a vector, each `1x28x28` image tensor is flattened into a vector of size 784 `(28*28)` before being passed into the model. \n",
    "\n",
    "The output for each image is a vector of size 10, with each element signifying the probability of a particular target label (i.e., 0 to 9). The predicted label for an image is simply the one with the highest probability."
   ]
  },
  {
   "cell_type": "code",
   "execution_count": 16,
   "id": "f7eafccb",
   "metadata": {},
   "outputs": [],
   "source": [
    "import torch.nn as nn"
   ]
  },
  {
   "cell_type": "code",
   "execution_count": 20,
   "id": "4b7b32f3",
   "metadata": {},
   "outputs": [],
   "source": [
    "input_size = 28 * 28\n",
    "num_classes = 10"
   ]
  },
  {
   "cell_type": "code",
   "execution_count": 21,
   "id": "0ea714cb",
   "metadata": {},
   "outputs": [],
   "source": [
    "class MnistModel(nn.Module):\n",
    "    def __init__(self):\n",
    "        super().__init__()\n",
    "        self.linear = nn.Linear(input_size, num_classes)\n",
    "        \n",
    "    def forward(self, xb):\n",
    "        xb = xb.reshape(-1, 784)\n",
    "        out = self.linear(xb)\n",
    "        return out\n",
    "    \n",
    "model = MnistModel()"
   ]
  },
  {
   "cell_type": "code",
   "execution_count": 22,
   "id": "27840d8f",
   "metadata": {},
   "outputs": [
    {
     "data": {
      "text/plain": [
       "[Parameter containing:\n",
       " tensor([[ 0.0084, -0.0056,  0.0046,  ...,  0.0217, -0.0044, -0.0308],\n",
       "         [ 0.0202, -0.0228,  0.0002,  ...,  0.0210,  0.0317,  0.0029],\n",
       "         [-0.0183,  0.0245, -0.0041,  ...,  0.0158, -0.0305,  0.0189],\n",
       "         ...,\n",
       "         [ 0.0324,  0.0210,  0.0328,  ...,  0.0043, -0.0272, -0.0303],\n",
       "         [-0.0006,  0.0341,  0.0074,  ..., -0.0207, -0.0099,  0.0201],\n",
       "         [-0.0193, -0.0338, -0.0035,  ..., -0.0026, -0.0321, -0.0234]],\n",
       "        requires_grad=True),\n",
       " Parameter containing:\n",
       " tensor([ 0.0038,  0.0232,  0.0156,  0.0067,  0.0171, -0.0152,  0.0115, -0.0290,\n",
       "          0.0221, -0.0095], requires_grad=True)]"
      ]
     },
     "execution_count": 22,
     "metadata": {},
     "output_type": "execute_result"
    }
   ],
   "source": [
    "model.linear\n",
    "list(model.parameters())"
   ]
  },
  {
   "cell_type": "code",
   "execution_count": 23,
   "id": "a763a4a7",
   "metadata": {},
   "outputs": [
    {
     "name": "stdout",
     "output_type": "stream",
     "text": [
      "tensor([[-0.0988,  0.2021,  0.2486,  ..., -0.0241, -0.0012, -0.0324],\n",
      "        [ 0.1088,  0.3484,  0.2922,  ...,  0.2263, -0.1214, -0.0450],\n",
      "        [ 0.0668,  0.1253,  0.3808,  ...,  0.3590,  0.1584, -0.3428],\n",
      "        ...,\n",
      "        [ 0.1019,  0.0444,  0.0717,  ...,  0.1911,  0.0372, -0.1048],\n",
      "        [ 0.2288, -0.4365, -0.1293,  ...,  0.3655, -0.1668, -0.4138],\n",
      "        [ 0.2570, -0.0399,  0.1880,  ...,  0.3930, -0.0132, -0.0539]],\n",
      "       grad_fn=<AddmmBackward0>)\n"
     ]
    }
   ],
   "source": [
    "for images, labels in train_loader:\n",
    "    outputs = model(images)\n",
    "    print(outputs)\n",
    "    break"
   ]
  },
  {
   "cell_type": "markdown",
   "id": "a34bda85",
   "metadata": {},
   "source": [
    "For each of the input images, we get 10 outputs, one for each class. Since, we'd like these outputs to represent probabilities. Each output row's elements must lie between 0 and 1 and up to 1. \n",
    "\n",
    "To convert the outputs rows into probabilities, we use the softmax function"
   ]
  },
  {
   "cell_type": "code",
   "execution_count": 24,
   "id": "b6844df7",
   "metadata": {},
   "outputs": [],
   "source": [
    "import torch.nn.functional as F"
   ]
  },
  {
   "cell_type": "code",
   "execution_count": 25,
   "id": "76b742ad",
   "metadata": {},
   "outputs": [
    {
     "name": "stdout",
     "output_type": "stream",
     "text": [
      "Sample probabilities: \n",
      " tensor([[0.0851, 0.1150, 0.1205, 0.1191, 0.1052, 0.0827, 0.0958, 0.0917, 0.0938,\n",
      "         0.0910],\n",
      "        [0.1024, 0.1301, 0.1230, 0.0878, 0.0978, 0.0821, 0.0924, 0.1152, 0.0813,\n",
      "         0.0878]])\n",
      "Sum:  1.0\n"
     ]
    }
   ],
   "source": [
    "# Apply softmax for each output row\n",
    "probs = F.softmax(outputs, dim=1)\n",
    "\n",
    "# Print sample probabilities\n",
    "print(\"Sample probabilities: \\n\", probs[:2].data)\n",
    "\n",
    "# Add up the probabilities of an output row\n",
    "print(\"Sum: \", torch.sum(probs[0]).item())"
   ]
  },
  {
   "cell_type": "markdown",
   "id": "8a441ffe",
   "metadata": {},
   "source": [
    "Finally, we can determine the predicted label for each image by simply choosing the index of the element with the highest probability in each output row. We can do this using torch.max, which returns each row's largest element and the corresponding index."
   ]
  },
  {
   "cell_type": "code",
   "execution_count": 26,
   "id": "4513b671",
   "metadata": {},
   "outputs": [
    {
     "name": "stdout",
     "output_type": "stream",
     "text": [
      "tensor([2, 1, 6, 0, 6, 3, 7, 7, 7, 0, 2, 0, 6, 3, 3, 6, 0, 7, 7, 7, 0, 1, 2, 7,\n",
      "        1, 7, 0, 6, 7, 7, 6, 1, 0, 1, 0, 4, 8, 3, 7, 7, 0, 3, 6, 1, 0, 1, 8, 1,\n",
      "        1, 6, 0, 7, 0, 1, 8, 3, 7, 7, 0, 1, 7, 1, 7, 7, 7, 7, 7, 2, 7, 1, 7, 0,\n",
      "        2, 7, 9, 2, 7, 3, 0, 6, 2, 7, 7, 7, 8, 1, 1, 4, 1, 7, 0, 7, 0, 7, 6, 8,\n",
      "        0, 7, 7, 7, 0, 2, 7, 7, 2, 7, 1, 6, 1, 7, 7, 1, 7, 6, 7, 0, 0, 7, 7, 0,\n",
      "        8, 1, 1, 6, 1, 3, 7, 7])\n",
      "tensor([0.1205, 0.1301, 0.1309, 0.1347, 0.1262, 0.1372, 0.1680, 0.1343, 0.1293,\n",
      "        0.1319, 0.1270, 0.1277, 0.1390, 0.1202, 0.1247, 0.1267, 0.1293, 0.1340,\n",
      "        0.1551, 0.1353, 0.1172, 0.1228, 0.1269, 0.1377, 0.1228, 0.1295, 0.1288,\n",
      "        0.1298, 0.1344, 0.1380, 0.1230, 0.1105, 0.1337, 0.1414, 0.1151, 0.1169,\n",
      "        0.1245, 0.1286, 0.1490, 0.1346, 0.1349, 0.1142, 0.1192, 0.1181, 0.1488,\n",
      "        0.1328, 0.1226, 0.1344, 0.1429, 0.1304, 0.1240, 0.1342, 0.1285, 0.1333,\n",
      "        0.1209, 0.1297, 0.1351, 0.1249, 0.1220, 0.1436, 0.1432, 0.1200, 0.1478,\n",
      "        0.1297, 0.1531, 0.1583, 0.1510, 0.1235, 0.1593, 0.1223, 0.1383, 0.1184,\n",
      "        0.1496, 0.1221, 0.1325, 0.1314, 0.1467, 0.1467, 0.1431, 0.1493, 0.1258,\n",
      "        0.1508, 0.1232, 0.1218, 0.1229, 0.1440, 0.1304, 0.1307, 0.1363, 0.1129,\n",
      "        0.1466, 0.1448, 0.1208, 0.1594, 0.1476, 0.1200, 0.1487, 0.1354, 0.1219,\n",
      "        0.1314, 0.1329, 0.1462, 0.1336, 0.1391, 0.1296, 0.1286, 0.1198, 0.1313,\n",
      "        0.1251, 0.1331, 0.1533, 0.1375, 0.1536, 0.1235, 0.1421, 0.1322, 0.1222,\n",
      "        0.1307, 0.1486, 0.1255, 0.1219, 0.1377, 0.1225, 0.1308, 0.1273, 0.1265,\n",
      "        0.1405, 0.1323], grad_fn=<MaxBackward0>)\n"
     ]
    }
   ],
   "source": [
    "max_prob, preds = torch.max(probs, dim=1)\n",
    "print(preds)\n",
    "print(max_prob)"
   ]
  },
  {
   "cell_type": "code",
   "execution_count": 27,
   "id": "f05d6352",
   "metadata": {},
   "outputs": [],
   "source": [
    "x = torch.tensor([[1, 2, 3], [4, 5, 6], [7, 8, 9]])"
   ]
  },
  {
   "cell_type": "code",
   "execution_count": 28,
   "id": "c9c6b812",
   "metadata": {},
   "outputs": [
    {
     "data": {
      "text/plain": [
       "tensor([12, 15, 18])"
      ]
     },
     "execution_count": 28,
     "metadata": {},
     "output_type": "execute_result"
    }
   ],
   "source": [
    "torch.sum(x, dim=0)"
   ]
  },
  {
   "cell_type": "code",
   "execution_count": 29,
   "id": "cc012fa8",
   "metadata": {},
   "outputs": [
    {
     "data": {
      "text/plain": [
       "tensor([8, 7, 0, 4, 3, 2, 2, 5, 9, 7, 9, 4, 2, 4, 1, 8, 8, 0, 2, 2, 4, 1, 4, 5,\n",
       "        6, 1, 7, 5, 1, 6, 2, 3, 8, 5, 7, 2, 4, 8, 0, 3, 8, 2, 2, 1, 7, 1, 7, 3,\n",
       "        1, 6, 9, 6, 3, 9, 0, 8, 8, 6, 7, 1, 9, 9, 9, 0, 0, 2, 3, 4, 4, 7, 4, 4,\n",
       "        5, 9, 8, 9, 0, 2, 9, 0, 5, 0, 9, 5, 6, 1, 7, 5, 1, 6, 9, 6, 1, 0, 2, 1,\n",
       "        9, 2, 4, 8, 9, 9, 4, 0, 9, 1, 1, 0, 9, 0, 2, 1, 9, 2, 1, 7, 4, 7, 2, 7,\n",
       "        5, 1, 6, 2, 6, 0, 2, 7])"
      ]
     },
     "execution_count": 29,
     "metadata": {},
     "output_type": "execute_result"
    }
   ],
   "source": [
    "labels"
   ]
  },
  {
   "cell_type": "markdown",
   "id": "698bb7cd",
   "metadata": {},
   "source": [
    "Most of the predicted labels are different from the actual labels. That's because we have just started with randomly initialized weights and biases. We still need to train the model i.e. adjust the weights using gradient descent to make better predictions"
   ]
  },
  {
   "cell_type": "markdown",
   "id": "5938f463",
   "metadata": {},
   "source": [
    "## Evaluation Metric and Loss Function"
   ]
  },
  {
   "cell_type": "markdown",
   "id": "ab8a7a62",
   "metadata": {},
   "source": [
    "Just as with linear regression, we need a way to evaluate how well our model is performing - finding the percentage of correctly predicted labels seems obvious in this case."
   ]
  },
  {
   "cell_type": "code",
   "execution_count": 30,
   "id": "91963f7e",
   "metadata": {},
   "outputs": [],
   "source": [
    "def accuracy(outputs, labels):\n",
    "    _, preds = torch.max(outputs, dim=1)\n",
    "    return torch.tensor(torch.sum(preds == labels).item() / len(preds))"
   ]
  },
  {
   "cell_type": "code",
   "execution_count": 31,
   "id": "e064de0a",
   "metadata": {},
   "outputs": [
    {
     "data": {
      "text/plain": [
       "tensor(0.1016)"
      ]
     },
     "execution_count": 31,
     "metadata": {},
     "output_type": "execute_result"
    }
   ],
   "source": [
    "accuracy(outputs, labels)"
   ]
  },
  {
   "cell_type": "markdown",
   "id": "7b756bbb",
   "metadata": {},
   "source": [
    "While the accuracy is an excellent choice for evaluating our model, it cannot be used as a loss function for optimizing our model using gradient descent because\n",
    "- It's not a differentiable function\n",
    "- It doesn't take into account the actual probabilities predicted by the model\n",
    "\n",
    "A commonly used loss function for classification problems is the cross-entropy."
   ]
  },
  {
   "cell_type": "code",
   "execution_count": 32,
   "id": "1c1d7bab",
   "metadata": {
    "scrolled": true
   },
   "outputs": [],
   "source": [
    "loss_fn = F.cross_entropy"
   ]
  },
  {
   "cell_type": "code",
   "execution_count": 33,
   "id": "d2efe981",
   "metadata": {},
   "outputs": [
    {
     "name": "stdout",
     "output_type": "stream",
     "text": [
      "tensor(2.3265, grad_fn=<NllLossBackward0>)\n"
     ]
    }
   ],
   "source": [
    "# Loss for current batch of data\n",
    "loss = loss_fn(outputs, labels)\n",
    "print(loss)"
   ]
  },
  {
   "cell_type": "code",
   "execution_count": 35,
   "id": "d086b73b",
   "metadata": {},
   "outputs": [
    {
     "data": {
      "text/plain": [
       "tensor([[-0.0988,  0.2021,  0.2486,  ..., -0.0241, -0.0012, -0.0324],\n",
       "        [ 0.1088,  0.3484,  0.2922,  ...,  0.2263, -0.1214, -0.0450],\n",
       "        [ 0.0668,  0.1253,  0.3808,  ...,  0.3590,  0.1584, -0.3428],\n",
       "        ...,\n",
       "        [ 0.1019,  0.0444,  0.0717,  ...,  0.1911,  0.0372, -0.1048],\n",
       "        [ 0.2288, -0.4365, -0.1293,  ...,  0.3655, -0.1668, -0.4138],\n",
       "        [ 0.2570, -0.0399,  0.1880,  ...,  0.3930, -0.0132, -0.0539]],\n",
       "       grad_fn=<AddmmBackward0>)"
      ]
     },
     "execution_count": 35,
     "metadata": {},
     "output_type": "execute_result"
    }
   ],
   "source": [
    "outputs"
   ]
  },
  {
   "cell_type": "markdown",
   "id": "3045f4d7",
   "metadata": {},
   "source": [
    "## Training the model"
   ]
  },
  {
   "cell_type": "code",
   "execution_count": 88,
   "id": "c72560f4",
   "metadata": {},
   "outputs": [],
   "source": [
    "def fit(epochs, lr, model, train_loader, val_loader, opt_func=torch.optim.SGD):\n",
    "    optimizer = opt_func(model.parameters(), lr)\n",
    "    history = [] # for recording epoch-wise results\n",
    "    \n",
    "    for epoch in range(epochs):\n",
    "        \n",
    "        # Training Phase\n",
    "        for batch in train_loader:\n",
    "            loss = model.training_step(batch)\n",
    "            loss.backward()\n",
    "            optimizer.step()\n",
    "            optimizer.zero_grad()\n",
    "            \n",
    "        # Validation phase\n",
    "        result = evaluate(model, val_loader)\n",
    "        model.epoch_end(epoch, result)\n",
    "        history.append(result)\n",
    "    \n",
    "    return history"
   ]
  },
  {
   "cell_type": "markdown",
   "id": "1f8aac69",
   "metadata": {},
   "source": [
    "Let's define the `evaluate` function, used in the validation phase of `fit`"
   ]
  },
  {
   "cell_type": "code",
   "execution_count": 89,
   "id": "87518aa9",
   "metadata": {},
   "outputs": [],
   "source": [
    "def evaluate(model, val_loader):\n",
    "    outputs = [model.validation_step(batch) for batch in val_loader]\n",
    "    return model.validation_epoch_end(outputs)"
   ]
  },
  {
   "cell_type": "markdown",
   "id": "64b796e9",
   "metadata": {},
   "source": [
    "Finally, let's redefined the `MnistModel` class to include additional methods `training_step`, `validation_step`, `validation_epoch_end`, and `epoch_end` used by `fit` and `evaluate`. "
   ]
  },
  {
   "cell_type": "code",
   "execution_count": 90,
   "id": "04fb46a4",
   "metadata": {},
   "outputs": [],
   "source": [
    "class MnistModel(nn.Module):\n",
    "    def __init__(self):\n",
    "        super().__init__()\n",
    "        self.linear = nn.Linear(input_size, num_classes)\n",
    "        \n",
    "    def forward(self, xb):\n",
    "        xb = xb.reshape(-1, 784)\n",
    "        out = self.linear(xb)\n",
    "        return out\n",
    "\n",
    "    def training_step(self, batch):\n",
    "        images, labels = batch\n",
    "        out = self(images)                     # Generate predictions\n",
    "        loss = F.cross_entropy(out, labels)    # Calculate loss\n",
    "        return loss\n",
    "\n",
    "    def validation_step(self, batch):\n",
    "        images, labels = batch\n",
    "        out = self(images)                     # Generate predictions\n",
    "        loss = F.cross_entropy(out, labels)    # Calculate loss\n",
    "        acc = accuracy(out, labels)            # Calculate accuracy\n",
    "        return {'val_loss': loss, 'val_acc': acc}\n",
    "    \n",
    "    def validation_epoch_end(self, outputs):\n",
    "        batch_losses = [x['val_loss'] for x in outputs]\n",
    "        epoch_loss = torch.stack(batch_losses).mean()      # Combine losses\n",
    "        batch_accs = [x['val_acc'] for x in outputs]\n",
    "        epoch_acc = torch.stack(batch_accs).mean()         # Combine accuracies\n",
    "        return {'val_loss': epoch_loss.item(), 'val_acc': epoch_acc.item()}\n",
    "    \n",
    "    def epoch_end(self, epoch, result):\n",
    "        print(\"Epoch [{}], val_loss: {:.4f}, val_acc: {:.4f}\".format(epoch, result['val_loss'], result['val_acc']))\n",
    "    \n",
    "model = MnistModel()"
   ]
  },
  {
   "cell_type": "markdown",
   "id": "41466a3a",
   "metadata": {},
   "source": [
    "Before we train the model, let's see how the model performs on the validation set with the initial set of random initialized weights and biases."
   ]
  },
  {
   "cell_type": "code",
   "execution_count": 91,
   "id": "0571fea4",
   "metadata": {
    "scrolled": false
   },
   "outputs": [],
   "source": [
    "result0 = evaluate(model, val_loader)"
   ]
  },
  {
   "cell_type": "code",
   "execution_count": 92,
   "id": "18b30b1c",
   "metadata": {},
   "outputs": [
    {
     "data": {
      "text/plain": [
       "{'val_loss': 2.303903818130493, 'val_acc': 0.12094540894031525}"
      ]
     },
     "execution_count": 92,
     "metadata": {},
     "output_type": "execute_result"
    }
   ],
   "source": [
    "result0"
   ]
  },
  {
   "cell_type": "markdown",
   "id": "16b0b54b",
   "metadata": {},
   "source": [
    "Let's now train the model for five epochs and look at the results"
   ]
  },
  {
   "cell_type": "code",
   "execution_count": 93,
   "id": "00984e48",
   "metadata": {},
   "outputs": [
    {
     "name": "stdout",
     "output_type": "stream",
     "text": [
      "Epoch [0], val_loss: 1.9433, val_acc: 0.6278\n",
      "Epoch [1], val_loss: 1.6766, val_acc: 0.7364\n",
      "Epoch [2], val_loss: 1.4767, val_acc: 0.7693\n",
      "Epoch [3], val_loss: 1.3259, val_acc: 0.7872\n",
      "Epoch [4], val_loss: 1.2103, val_acc: 0.7975\n"
     ]
    }
   ],
   "source": [
    "history1 = fit(5, 0.001, model, train_loader, val_loader)"
   ]
  },
  {
   "cell_type": "markdown",
   "id": "ccca6d7a",
   "metadata": {},
   "source": [
    "Let's train for few more epochs"
   ]
  },
  {
   "cell_type": "code",
   "execution_count": 94,
   "id": "f10a88fe",
   "metadata": {},
   "outputs": [
    {
     "name": "stdout",
     "output_type": "stream",
     "text": [
      "Epoch [0], val_loss: 1.1196, val_acc: 0.8050\n",
      "Epoch [1], val_loss: 1.0471, val_acc: 0.8123\n",
      "Epoch [2], val_loss: 0.9879, val_acc: 0.8180\n",
      "Epoch [3], val_loss: 0.9386, val_acc: 0.8225\n",
      "Epoch [4], val_loss: 0.8971, val_acc: 0.8256\n"
     ]
    }
   ],
   "source": [
    "history2 = fit(5, 0.001, model, train_loader, val_loader)"
   ]
  },
  {
   "cell_type": "code",
   "execution_count": 95,
   "id": "b9d19191",
   "metadata": {},
   "outputs": [
    {
     "name": "stdout",
     "output_type": "stream",
     "text": [
      "Epoch [0], val_loss: 0.8616, val_acc: 0.8282\n",
      "Epoch [1], val_loss: 0.8308, val_acc: 0.8318\n",
      "Epoch [2], val_loss: 0.8039, val_acc: 0.8337\n",
      "Epoch [3], val_loss: 0.7802, val_acc: 0.8363\n",
      "Epoch [4], val_loss: 0.7590, val_acc: 0.8384\n"
     ]
    }
   ],
   "source": [
    "history3 = fit(5, 0.001, model, train_loader, val_loader)"
   ]
  },
  {
   "cell_type": "code",
   "execution_count": 96,
   "id": "028fd8fa",
   "metadata": {},
   "outputs": [
    {
     "name": "stdout",
     "output_type": "stream",
     "text": [
      "Epoch [0], val_loss: 0.7400, val_acc: 0.8404\n",
      "Epoch [1], val_loss: 0.7229, val_acc: 0.8417\n",
      "Epoch [2], val_loss: 0.7074, val_acc: 0.8430\n",
      "Epoch [3], val_loss: 0.6932, val_acc: 0.8446\n",
      "Epoch [4], val_loss: 0.6802, val_acc: 0.8456\n"
     ]
    }
   ],
   "source": [
    "history4 = fit(5, 0.001, model, train_loader, val_loader)"
   ]
  },
  {
   "cell_type": "code",
   "execution_count": 106,
   "id": "073bd57f",
   "metadata": {
    "scrolled": false
   },
   "outputs": [
    {
     "data": {
      "image/png": "[encoded data removed]",
      "text/plain": [
       "<Figure size 640x480 with 1 Axes>"
      ]
     },
     "metadata": {},
     "output_type": "display_data"
    }
   ],
   "source": [
    "history = [result0] + history1 + history2 + history3 + history4\n",
    "accuracies = [result['val_acc'] for result in history]\n",
    "plt.plot(accuracies, '-x')\n",
    "plt.xlabel('epoch')\n",
    "plt.ylabel('accurcay')\n",
    "plt.title('Accuracy vs. No of epochs');"
   ]
  },
  {
   "cell_type": "markdown",
   "id": "3efb520b",
   "metadata": {},
   "source": [
    "It's quite clear from the above picture that the model probably won't cross the accuracy threshold of 90% even after training for a very long time.  "
   ]
  },
  {
   "cell_type": "markdown",
   "id": "c501f9a8",
   "metadata": {},
   "source": [
    "## Testing with Individual Images"
   ]
  },
  {
   "cell_type": "code",
   "execution_count": 109,
   "id": "c00330cb",
   "metadata": {},
   "outputs": [],
   "source": [
    "# Define test dataset\n",
    "test_dataset = MNIST(root='data/', train=False, transform=transforms.ToTensor())"
   ]
  },
  {
   "cell_type": "code",
   "execution_count": 113,
   "id": "cbcf88fc",
   "metadata": {},
   "outputs": [
    {
     "name": "stdout",
     "output_type": "stream",
     "text": [
      "Shape: torch.Size([1, 28, 28])\n",
      "Label: 7\n"
     ]
    },
    {
     "data": {
      "image/png": "[encoded data removed]",
      "text/plain": [
       "<Figure size 640x480 with 1 Axes>"
      ]
     },
     "metadata": {},
     "output_type": "display_data"
    }
   ],
   "source": [
    "img, label = test_dataset[0]\n",
    "plt.imshow(img[0], cmap='gray')\n",
    "print('Shape:', img.shape)\n",
    "print('Label:', label)"
   ]
  },
  {
   "cell_type": "code",
   "execution_count": 127,
   "id": "c7f9a44b",
   "metadata": {},
   "outputs": [],
   "source": [
    "def predict_image(img, model):\n",
    "    xb = img.unsqueeze(0)\n",
    "    yb = model(xb)\n",
    "    _, preds = torch.max(yb, dim=1)\n",
    "    \n",
    "    return preds[0].item()"
   ]
  },
  {
   "cell_type": "code",
   "execution_count": 129,
   "id": "93461d00",
   "metadata": {},
   "outputs": [
    {
     "name": "stdout",
     "output_type": "stream",
     "text": [
      "Label: 7 , Predicted: 7\n"
     ]
    },
    {
     "data": {
      "image/png": "[encoded data removed]",
      "text/plain": [
       "<Figure size 640x480 with 1 Axes>"
      ]
     },
     "metadata": {},
     "output_type": "display_data"
    }
   ],
   "source": [
    "img, label = test_dataset[0]\n",
    "plt.imshow(img[0], cmap='gray')\n",
    "print('Label:', label, ', Predicted:', predict_image(img, model))"
   ]
  },
  {
   "cell_type": "code",
   "execution_count": 130,
   "id": "4af5beef",
   "metadata": {},
   "outputs": [
    {
     "name": "stdout",
     "output_type": "stream",
     "text": [
      "Label: 0 , Predicted: 0\n"
     ]
    },
    {
     "data": {
      "image/png": "[encoded data removed]",
      "text/plain": [
       "<Figure size 640x480 with 1 Axes>"
      ]
     },
     "metadata": {},
     "output_type": "display_data"
    }
   ],
   "source": [
    "img, label = test_dataset[10]\n",
    "plt.imshow(img[0], cmap='gray')\n",
    "print('Label:', label, ', Predicted:', predict_image(img, model))"
   ]
  },
  {
   "cell_type": "code",
   "execution_count": 131,
   "id": "5584d8bd",
   "metadata": {},
   "outputs": [
    {
     "name": "stdout",
     "output_type": "stream",
     "text": [
      "Label: 9 , Predicted: 9\n"
     ]
    },
    {
     "data": {
      "image/png": "[encoded data removed]",
      "text/plain": [
       "<Figure size 640x480 with 1 Axes>"
      ]
     },
     "metadata": {},
     "output_type": "display_data"
    }
   ],
   "source": [
    "img, label = test_dataset[193]\n",
    "plt.imshow(img[0], cmap='gray')\n",
    "print('Label:', label, ', Predicted:', predict_image(img, model))"
   ]
  },
  {
   "cell_type": "code",
   "execution_count": 132,
   "id": "b1f14621",
   "metadata": {},
   "outputs": [
    {
     "name": "stdout",
     "output_type": "stream",
     "text": [
      "Label: 2 , Predicted: 8\n"
     ]
    },
    {
     "data": {
      "image/png": "[encoded data removed]",
      "text/plain": [
       "<Figure size 640x480 with 1 Axes>"
      ]
     },
     "metadata": {},
     "output_type": "display_data"
    }
   ],
   "source": [
    "img, label = test_dataset[1839]\n",
    "plt.imshow(img[0], cmap='gray')\n",
    "print('Label:', label, ', Predicted:', predict_image(img, model))"
   ]
  },
  {
   "cell_type": "markdown",
   "id": "ac34c2d6",
   "metadata": {},
   "source": [
    "As a final step, let's also look at the overall loss and accuracy of the model on the test set."
   ]
  },
  {
   "cell_type": "code",
   "execution_count": 133,
   "id": "bf3c8c8b",
   "metadata": {},
   "outputs": [
    {
     "data": {
      "text/plain": [
       "{'val_loss': 0.6396650671958923, 'val_acc': 0.8609374761581421}"
      ]
     },
     "execution_count": 133,
     "metadata": {},
     "output_type": "execute_result"
    }
   ],
   "source": [
    "test_loader = DataLoader(test_dataset, batch_size=256)\n",
    "result = evaluate(model, test_loader)\n",
    "result"
   ]
  },
  {
   "cell_type": "markdown",
   "id": "716585f8",
   "metadata": {},
   "source": [
    "## Saving and loading the model"
   ]
  },
  {
   "cell_type": "code",
   "execution_count": 135,
   "id": "03ebc1cc",
   "metadata": {},
   "outputs": [],
   "source": [
    "torch.save(model.state_dict(), 'mnist-logistic.pth')"
   ]
  },
  {
   "cell_type": "code",
   "execution_count": 137,
   "id": "cb7fa430",
   "metadata": {},
   "outputs": [
    {
     "data": {
      "text/plain": [
       "OrderedDict([('linear.weight',\n",
       "              tensor([[ 0.0316,  0.0311,  0.0160,  ...,  0.0266, -0.0074,  0.0212],\n",
       "                      [-0.0013,  0.0328, -0.0017,  ...,  0.0091, -0.0215, -0.0133],\n",
       "                      [ 0.0192, -0.0055, -0.0338,  ...,  0.0048,  0.0269, -0.0264],\n",
       "                      ...,\n",
       "                      [-0.0309,  0.0015, -0.0205,  ..., -0.0206, -0.0156, -0.0017],\n",
       "                      [ 0.0073, -0.0313, -0.0070,  ...,  0.0234, -0.0098,  0.0071],\n",
       "                      [-0.0161, -0.0161,  0.0123,  ..., -0.0320, -0.0049,  0.0061]])),\n",
       "             ('linear.bias',\n",
       "              tensor([-0.0470,  0.1287, -0.0294, -0.0290,  0.0012,  0.0745,  0.0181,  0.0156,\n",
       "                      -0.0726,  0.0030]))])"
      ]
     },
     "execution_count": 137,
     "metadata": {},
     "output_type": "execute_result"
    }
   ],
   "source": [
    "model.state_dict()"
   ]
  },
  {
   "cell_type": "markdown",
   "id": "2f737550",
   "metadata": {},
   "source": [
    "To load the model weights, we can instantiate a new object of the class MnistModel, and use the `.load_state_dict` method."
   ]
  },
  {
   "cell_type": "code",
   "execution_count": 140,
   "id": "86f227d5",
   "metadata": {},
   "outputs": [
    {
     "data": {
      "text/plain": [
       "OrderedDict([('linear.weight',\n",
       "              tensor([[ 0.0316,  0.0311,  0.0160,  ...,  0.0266, -0.0074,  0.0212],\n",
       "                      [-0.0013,  0.0328, -0.0017,  ...,  0.0091, -0.0215, -0.0133],\n",
       "                      [ 0.0192, -0.0055, -0.0338,  ...,  0.0048,  0.0269, -0.0264],\n",
       "                      ...,\n",
       "                      [-0.0309,  0.0015, -0.0205,  ..., -0.0206, -0.0156, -0.0017],\n",
       "                      [ 0.0073, -0.0313, -0.0070,  ...,  0.0234, -0.0098,  0.0071],\n",
       "                      [-0.0161, -0.0161,  0.0123,  ..., -0.0320, -0.0049,  0.0061]])),\n",
       "             ('linear.bias',\n",
       "              tensor([-0.0470,  0.1287, -0.0294, -0.0290,  0.0012,  0.0745,  0.0181,  0.0156,\n",
       "                      -0.0726,  0.0030]))])"
      ]
     },
     "execution_count": 140,
     "metadata": {},
     "output_type": "execute_result"
    }
   ],
   "source": [
    "model2 = MnistModel()\n",
    "model2.load_state_dict(torch.load('mnist-logistic.pth'))\n",
    "model2.state_dict()"
   ]
  },
  {
   "cell_type": "code",
   "execution_count": 142,
   "id": "f6477d3c",
   "metadata": {},
   "outputs": [
    {
     "data": {
      "text/plain": [
       "{'val_loss': 0.6396650671958923, 'val_acc': 0.8609374761581421}"
      ]
     },
     "execution_count": 142,
     "metadata": {},
     "output_type": "execute_result"
    }
   ],
   "source": [
    "# Verify model has the same loss and accuracy on the test set as before\n",
    "test_loader = DataLoader(test_dataset, batch_size=256)\n",
    "result = evaluate(model2, test_loader)\n",
    "result"
   ]
  },
  {
   "cell_type": "code",
   "execution_count": null,
   "id": "1a5dc7bd",
   "metadata": {},
   "outputs": [],
   "source": []
  }
 ],
 "metadata": {
  "kernelspec": {
   "display_name": "Python 3 (ipykernel)",
   "language": "python",
   "name": "python3"
  },
  "language_info": {
   "codemirror_mode": {
    "name": "ipython",
    "version": 3
   },
   "file_extension": ".py",
   "mimetype": "text/x-python",
   "name": "python",
   "nbconvert_exporter": "python",
   "pygments_lexer": "ipython3",
   "version": "3.10.6"
  }
 },
 "nbformat": 4,
 "nbformat_minor": 5
}
