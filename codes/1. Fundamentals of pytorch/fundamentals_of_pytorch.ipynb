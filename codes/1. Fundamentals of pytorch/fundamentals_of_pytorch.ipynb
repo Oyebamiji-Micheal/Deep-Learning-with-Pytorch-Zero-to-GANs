{
 "cells": [
  {
   "cell_type": "markdown",
   "id": "2cc3cd60",
   "metadata": {},
   "source": [
    "# Introduction to Tensors"
   ]
  },
  {
   "cell_type": "markdown",
   "id": "2221280a",
   "metadata": {},
   "source": [
    "In the language of deep learning, a tensor can be anything from a number(scaler) to a vector, matrix or any n-dimensional array."
   ]
  },
  {
   "cell_type": "code",
   "execution_count": 1,
   "id": "1af603af",
   "metadata": {},
   "outputs": [],
   "source": [
    "import torch\n",
    "import pandas as pd\n",
    "import numpy as np\n",
    "import matplotlib.pyplot as plt"
   ]
  },
  {
   "cell_type": "markdown",
   "id": "be5e7237",
   "metadata": {},
   "source": [
    "## Creating Tensors"
   ]
  },
  {
   "cell_type": "code",
   "execution_count": 2,
   "id": "da4f7973",
   "metadata": {},
   "outputs": [
    {
     "name": "stdout",
     "output_type": "stream",
     "text": [
      "tensor(6)\n",
      "torch.int64\n"
     ]
    }
   ],
   "source": [
    "# Scalers\n",
    "scaler = torch.tensor(6)\n",
    "print(scaler)\n",
    "print(scaler.dtype)"
   ]
  },
  {
   "cell_type": "code",
   "execution_count": 3,
   "id": "7986dff4",
   "metadata": {},
   "outputs": [
    {
     "name": "stdout",
     "output_type": "stream",
     "text": [
      "tensor([1.3000, 3.2000, 2.5000, 9.0000])\n"
     ]
    }
   ],
   "source": [
    "# Vectors - also known as column matrices\n",
    "vector = torch.tensor([1.3, 3.2, 2.5, 9])\n",
    "print(vector)"
   ]
  },
  {
   "cell_type": "code",
   "execution_count": 4,
   "id": "c989efa9",
   "metadata": {},
   "outputs": [
    {
     "data": {
      "text/plain": [
       "tensor([[1, 2, 3],\n",
       "        [4, 5, 6]], dtype=torch.int32)"
      ]
     },
     "execution_count": 4,
     "metadata": {},
     "output_type": "execute_result"
    }
   ],
   "source": [
    "# Matrices\n",
    "matrix = torch.tensor([[1, 2, 3], [4, 5, 6]], dtype=torch.int32)\n",
    "matrix"
   ]
  },
  {
   "cell_type": "code",
   "execution_count": 5,
   "id": "d5dccaa4",
   "metadata": {},
   "outputs": [
    {
     "data": {
      "text/plain": [
       "2"
      ]
     },
     "execution_count": 5,
     "metadata": {},
     "output_type": "execute_result"
    }
   ],
   "source": [
    "# Checking the dimension of a tensor\n",
    "matrix.ndim"
   ]
  },
  {
   "cell_type": "code",
   "execution_count": 6,
   "id": "f0854cda",
   "metadata": {},
   "outputs": [
    {
     "data": {
      "text/plain": [
       "tensor([[[1.0000, 2.0000, 3.0000],\n",
       "         [4.0000, 5.0000, 6.0000],\n",
       "         [7.0000, 8.0000, 9.4000]]])"
      ]
     },
     "execution_count": 6,
     "metadata": {},
     "output_type": "execute_result"
    }
   ],
   "source": [
    "# 3-dimensional array\n",
    "array_3d = torch.tensor([[[1, 2, 3], [4, 5, 6], [7, 8, 9.4]]])\n",
    "array_3d"
   ]
  },
  {
   "cell_type": "code",
   "execution_count": 7,
   "id": "a9842e43",
   "metadata": {},
   "outputs": [
    {
     "data": {
      "text/plain": [
       "torch.Size([1, 3, 3])"
      ]
     },
     "execution_count": 7,
     "metadata": {},
     "output_type": "execute_result"
    }
   ],
   "source": [
    "array_3d.shape"
   ]
  },
  {
   "cell_type": "code",
   "execution_count": 8,
   "id": "e6d2df1a",
   "metadata": {},
   "outputs": [
    {
     "data": {
      "text/plain": [
       "torch.float32"
      ]
     },
     "execution_count": 8,
     "metadata": {},
     "output_type": "execute_result"
    }
   ],
   "source": [
    "array_3d.dtype"
   ]
  },
  {
   "cell_type": "code",
   "execution_count": 9,
   "id": "6707e7a4",
   "metadata": {},
   "outputs": [
    {
     "data": {
      "text/plain": [
       "tensor([[1.0000, 2.0000, 3.0000],\n",
       "        [4.0000, 5.0000, 6.0000],\n",
       "        [7.0000, 8.0000, 9.4000]])"
      ]
     },
     "execution_count": 9,
     "metadata": {},
     "output_type": "execute_result"
    }
   ],
   "source": [
    "array_3d[0]"
   ]
  },
  {
   "cell_type": "code",
   "execution_count": 10,
   "id": "c7e9fab1",
   "metadata": {},
   "outputs": [
    {
     "name": "stdout",
     "output_type": "stream",
     "text": [
      "tensor([[0.3155, 0.2344, 0.3742, 0.4177],\n",
      "        [0.3578, 0.9426, 0.1736, 0.9521],\n",
      "        [0.2492, 0.6537, 0.6768, 0.8372]])\n"
     ]
    }
   ],
   "source": [
    "# Creating random tensors\n",
    "random_tensor = torch.rand(size=(3, 4))\n",
    "print(random_tensor)"
   ]
  },
  {
   "cell_type": "markdown",
   "id": "db4d836c",
   "metadata": {},
   "source": [
    "## Tensor aggregation - `mean`, `max`, `min`, `sum`"
   ]
  },
  {
   "cell_type": "code",
   "execution_count": 11,
   "id": "83420303",
   "metadata": {},
   "outputs": [
    {
     "data": {
      "text/plain": [
       "tensor([-3, -1,  1,  3,  5,  7,  9, 11, 13, 15, 17, 19])"
      ]
     },
     "execution_count": 11,
     "metadata": {},
     "output_type": "execute_result"
    }
   ],
   "source": [
    "# Create a tensor\n",
    "x = torch.arange(-3, 20, 2)\n",
    "x"
   ]
  },
  {
   "cell_type": "code",
   "execution_count": 12,
   "id": "6fe9a2b2",
   "metadata": {
    "scrolled": true
   },
   "outputs": [
    {
     "data": {
      "text/plain": [
       "tensor(-3)"
      ]
     },
     "execution_count": 12,
     "metadata": {},
     "output_type": "execute_result"
    }
   ],
   "source": [
    "# Find the min\n",
    "x.min()"
   ]
  },
  {
   "cell_type": "code",
   "execution_count": 13,
   "id": "9feae66e",
   "metadata": {},
   "outputs": [
    {
     "data": {
      "text/plain": [
       "tensor(19)"
      ]
     },
     "execution_count": 13,
     "metadata": {},
     "output_type": "execute_result"
    }
   ],
   "source": [
    "# Find the max\n",
    "x.max()"
   ]
  },
  {
   "cell_type": "code",
   "execution_count": 14,
   "id": "2736f705",
   "metadata": {},
   "outputs": [
    {
     "data": {
      "text/plain": [
       "tensor(8.)"
      ]
     },
     "execution_count": 14,
     "metadata": {},
     "output_type": "execute_result"
    }
   ],
   "source": [
    "# Find the mean\n",
    "torch.mean(x.type(torch.float32))"
   ]
  },
  {
   "cell_type": "code",
   "execution_count": 15,
   "id": "7d20f23f",
   "metadata": {},
   "outputs": [
    {
     "data": {
      "text/plain": [
       "tensor(96)"
      ]
     },
     "execution_count": 15,
     "metadata": {},
     "output_type": "execute_result"
    }
   ],
   "source": [
    "# Find the sum\n",
    "torch.sum(x)"
   ]
  },
  {
   "cell_type": "markdown",
   "id": "1cc2473a",
   "metadata": {},
   "source": [
    "## Reshaping"
   ]
  },
  {
   "cell_type": "code",
   "execution_count": 16,
   "id": "4fcda08a",
   "metadata": {},
   "outputs": [
    {
     "data": {
      "text/plain": [
       "tensor([1, 2, 3, 4, 5, 6, 7, 8, 9])"
      ]
     },
     "execution_count": 16,
     "metadata": {},
     "output_type": "execute_result"
    }
   ],
   "source": [
    "x = torch.arange(1, 10)\n",
    "x"
   ]
  },
  {
   "cell_type": "code",
   "execution_count": 17,
   "id": "99f4efae",
   "metadata": {
    "scrolled": true
   },
   "outputs": [
    {
     "data": {
      "text/plain": [
       "tensor([[1, 2, 3],\n",
       "        [4, 5, 6],\n",
       "        [7, 8, 9]])"
      ]
     },
     "execution_count": 17,
     "metadata": {},
     "output_type": "execute_result"
    }
   ],
   "source": [
    "# Reshape to a 2-d tensor\n",
    "x.reshape(3, 3)"
   ]
  },
  {
   "cell_type": "markdown",
   "id": "7df60c08",
   "metadata": {},
   "source": [
    "## Tensor Operation and Gradient"
   ]
  },
  {
   "cell_type": "code",
   "execution_count": 39,
   "id": "9f1d0e28",
   "metadata": {},
   "outputs": [],
   "source": [
    "x = torch.tensor(3., requires_grad=True)\n",
    "w = torch.tensor(4., requires_grad=True)\n",
    "b = torch.tensor(5.,)"
   ]
  },
  {
   "cell_type": "code",
   "execution_count": 40,
   "id": "20eb7f34",
   "metadata": {},
   "outputs": [
    {
     "data": {
      "text/plain": [
       "tensor(41., grad_fn=<AddBackward0>)"
      ]
     },
     "execution_count": 40,
     "metadata": {},
     "output_type": "execute_result"
    }
   ],
   "source": [
    "# Arithmetic operation\n",
    "y = w * (x**2) + b\n",
    "y"
   ]
  },
  {
   "cell_type": "code",
   "execution_count": 41,
   "id": "243fce88",
   "metadata": {},
   "outputs": [],
   "source": [
    "# Compute derivatives\n",
    "y.backward()"
   ]
  },
  {
   "cell_type": "code",
   "execution_count": 42,
   "id": "10a1ab50",
   "metadata": {},
   "outputs": [
    {
     "name": "stdout",
     "output_type": "stream",
     "text": [
      "dy/dx: 24.0\n",
      "dy/dw: 9.0\n",
      "dy/db: None\n"
     ]
    }
   ],
   "source": [
    "print(f'dy/dx: {x.grad}')\n",
    "print(f'dy/dw: {w.grad}')\n",
    "print(f'dy/db: {b.grad}')"
   ]
  }
 ],
 "metadata": {
  "kernelspec": {
   "display_name": "Python 3 (ipykernel)",
   "language": "python",
   "name": "python3"
  },
  "language_info": {
   "codemirror_mode": {
    "name": "ipython",
    "version": 3
   },
   "file_extension": ".py",
   "mimetype": "text/x-python",
   "name": "python",
   "nbconvert_exporter": "python",
   "pygments_lexer": "ipython3",
   "version": "3.10.6"
  }
 },
 "nbformat": 4,
 "nbformat_minor": 5
}
